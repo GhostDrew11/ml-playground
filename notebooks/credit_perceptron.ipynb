{
 "cells": [
  {
   "cell_type": "code",
   "execution_count": 1,
   "id": "65ad48c4",
   "metadata": {},
   "outputs": [
    {
     "name": "stdout",
     "output_type": "stream",
     "text": [
      "✅ Setup complete! Ready to build our credit approval system.\n"
     ]
    }
   ],
   "source": [
    "# Cell 1: Setup and imports\n",
    "%load_ext autoreload\n",
    "%autoreload 2\n",
    "\n",
    "import numpy as np\n",
    "import pandas as pd\n",
    "import matplotlib.pyplot as plt\n",
    "from sklearn.model_selection import train_test_split\n",
    "from sklearn.preprocessing import StandardScaler\n",
    "import seaborn as sns\n",
    "\n",
    "# Set style for prettier plots\n",
    "plt.style.use('seaborn-v0_8')\n",
    "sns.set_palette('husl')\n",
    "\n",
    "print(\"✅ Setup complete! Ready to build our credit approval system.\")"
   ]
  },
  {
   "cell_type": "code",
   "execution_count": 6,
   "id": "1a124fbf",
   "metadata": {},
   "outputs": [
    {
     "name": "stdout",
     "output_type": "stream",
     "text": [
      "Generating historical credit data from our fictional bank...\n",
      "Creating data for 500 pasts customers (2010-2024)...\n",
      " Generated 4 features for each customer:\n",
      " - Annual Income: $20,658 to $149,085\n",
      " - Credit Score: 303 to 850\n",
      " - Years Employed: 0.6 to 25.0 years\n",
      " - Current Debt: $257 to $79,868\n"
     ]
    }
   ],
   "source": [
    "# Cell 2: Generate sample credit data for our fictional bank\n",
    "np.random.seed(42)  # For reproducibility - same data each time we run\n",
    "\n",
    "# Number of customers in our historical data (10-15 years worth)\n",
    "n_samples = 500\n",
    "\n",
    "print(\"Generating historical credit data from our fictional bank...\")\n",
    "print(f\"Creating data for {n_samples} pasts customers (2010-2024)...\")\n",
    "\n",
    "# Feature 1: Annual Income (in dollars)\n",
    "# Range: $20,000 to $150,000 (realistic salary range)\n",
    "annual_income = np.random.uniform(20000, 150000, n_samples)\n",
    "\n",
    "# Feature 2: Credit Score\n",
    "# Range: 300 to 850 (typical credit score range)\n",
    "credit_score = np.random.uniform(300, 850, n_samples)\n",
    "\n",
    "# Feature 3: Years Employed\n",
    "# Range: 0.5 to 25 years (recent graduates to seasoned professionals)\n",
    "years_employed = np.random.uniform(0.5, 25, n_samples)\n",
    "\n",
    "# Feature 4: Current Debt (in dollars)\n",
    "# Range: $0 to $80,000 (credit cards, car loans, etc.)\n",
    "current_debt = np.random.uniform(0, 80000, n_samples)\n",
    "\n",
    "print(\" Generated 4 features for each customer:\")\n",
    "print(f\" - Annual Income: ${annual_income.min():,.0f} to ${annual_income.max():,.0f}\")\n",
    "print(f\" - Credit Score: {credit_score.min():.0f} to {credit_score.max():.0f}\")\n",
    "print(\n",
    "    f\" - Years Employed: {years_employed.min():.1f} to {years_employed.max():.1f} years\"\n",
    ")\n",
    "print(f\" - Current Debt: ${current_debt.min():,.0f} to ${current_debt.max():,.0f}\")"
   ]
  },
  {
   "cell_type": "code",
   "execution_count": null,
   "id": "a2f160ad",
   "metadata": {},
   "outputs": [],
   "source": [
    "# Cell 3: Create approval decisions based on a realistic rule\n",
    "print(\"\\n Creating historical approval/denial decisions ...\\n\")\n",
    "\n",
    "# Create a simple bu realistic decision rule\n",
    "# Good candidates have: high income, high credit score, long employment, low debt\n",
    "\n",
    "# Let's create a \"credit worthiness score\" based on these factors\n",
    "# We'll normalize each factor to contribute fairly\n",
    "\n",
    "# Income contribution (higher is better) - normalized to 0-100\n",
    "income_score = (annual_income - annual_income.min()) / (annual_income.max() - annual_income.min()) * 100\n",
    "\n",
    "# Credit sscore contribution (higher is better) - already roughly 0-100 scale\n",
    "credit_score_normalized = (credit_score - 300) / (850 - 300) * 100\n",
    "\n",
    "# Employment contribution (longer is better) - normalized to 0-100\n",
    "employment_score = (years_employed - years_employed.min()) / (years_employed.max() - years_employed.min()) * 100"
   ]
  }
 ],
 "metadata": {
  "kernelspec": {
   "display_name": "Test ML Environment",
   "language": "python",
   "name": "ml-env"
  },
  "language_info": {
   "codemirror_mode": {
    "name": "ipython",
    "version": 3
   },
   "file_extension": ".py",
   "mimetype": "text/x-python",
   "name": "python",
   "nbconvert_exporter": "python",
   "pygments_lexer": "ipython3",
   "version": "3.13.7"
  }
 },
 "nbformat": 4,
 "nbformat_minor": 5
}
